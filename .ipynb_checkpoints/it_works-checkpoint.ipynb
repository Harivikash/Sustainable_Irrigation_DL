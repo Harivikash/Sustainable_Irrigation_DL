{
 "cells": [
  {
   "cell_type": "code",
   "execution_count": 34,
   "id": "ab322fb5-2bb0-4b93-8454-a776a0cc3d12",
   "metadata": {},
   "outputs": [
    {
     "name": "stdout",
     "output_type": "stream",
     "text": [
      "\n",
      "Downloading https://images.pexels.com/photos/1480347/pexels-photo-1480347.jpeg to 'pexels-photo-1480347.jpeg'...\n"
     ]
    },
    {
     "name": "stderr",
     "output_type": "stream",
     "text": [
      "100%|█████████████████████████████████████████████████████████████████████████████████████████████████████████████████| 2.92M/2.92M [00:01<00:00, 1.93MB/s]\n"
     ]
    },
    {
     "name": "stdout",
     "output_type": "stream",
     "text": [
      "image 1/1 C:\\Users\\mhari\\OneDrive\\Desktop\\Flower-detector-1\\pexels-photo-1480347.jpeg: 416x640 7 flowers, 1 malvavicus, 111.3ms\n",
      "Speed: 0.0ms preprocess, 111.3ms inference, 0.0ms postprocess per image at shape (1, 3, 416, 640)\n"
     ]
    }
   ],
   "source": [
    "from PIL import Image\n",
    "import numpy as np\n",
    "\n",
    "# Load a pretrained YOLOv8n-seg Segment model\n",
    "model = YOLO(r\"C:\\Users\\mhari\\OneDrive\\Desktop\\Flower-detector-1\\best.pt\")\n",
    "\n",
    "# Run inference on an image\n",
    "results = model('https://images.pexels.com/photos/1480347/pexels-photo-1480347.jpeg')  # results list\n",
    "\n",
    "# View results and save annotated image\n",
    "for idx, r in enumerate(results):\n",
    "    # original_image = Image.open(r\"C:\\Users\\mhari\\OneDrive\\Desktop\\Flower-detector-1\\pexels-photo-1308881.jpeg\")\n",
    "    masks = r.masks  # Masks object containing detected instance masks\n",
    "    r.plot()\n",
    "\n",
    "for r in results:\n",
    "    im_array = r.plot()  # plot a BGR numpy array of predictions\n",
    "    im = Image.fromarray(im_array[..., ::-1])  # RGB PIL image\n",
    "    im.show()  # show image\n",
    "    im.save('results.jpg')  "
   ]
  },
  {
   "cell_type": "code",
   "execution_count": null,
   "id": "d7842efb-705a-4f25-8092-9fc21eae5978",
   "metadata": {},
   "outputs": [],
   "source": []
  }
 ],
 "metadata": {
  "kernelspec": {
   "display_name": "Python 3 (ipykernel)",
   "language": "python",
   "name": "python3"
  },
  "language_info": {
   "codemirror_mode": {
    "name": "ipython",
    "version": 3
   },
   "file_extension": ".py",
   "mimetype": "text/x-python",
   "name": "python",
   "nbconvert_exporter": "python",
   "pygments_lexer": "ipython3",
   "version": "3.10.13"
  }
 },
 "nbformat": 4,
 "nbformat_minor": 5
}
