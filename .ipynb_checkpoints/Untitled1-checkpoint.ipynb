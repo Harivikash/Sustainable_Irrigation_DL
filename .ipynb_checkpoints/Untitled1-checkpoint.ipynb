{
 "cells": [
  {
   "cell_type": "code",
   "execution_count": null,
   "id": "691c497a-f2df-4c5d-b782-3b45da3dece5",
   "metadata": {},
   "outputs": [],
   "source": [
    "from flask import Flask, render_template\n",
    "import requests\n",
    "import cv2\n",
    "import numpy as np\n",
    "\n",
    "app = Flask(__name__)\n",
    "\n",
    "@app.route('/')\n",
    "def home():\n",
    "    # Fetch weather information\n",
    "    weather_data = get_weather_data()\n",
    "\n",
    "    return render_template('index.html', weather_data=weather_data)\n",
    "\n",
    "def get_weather_data():\n",
    "    # Replace 'YOUR_API_KEY' with your actual API key\n",
    "    api_key = 'YOUR_API_KEY'\n",
    "    weather_api_url = f'https://api.openweathermap.org/data/2.5/weather?q=YourCity&appid={api_key}'\n",
    "    response = requests.get(weather_api_url)\n",
    "    weather_data = response.json()\n",
    "    return weather_data\n",
    "\n",
    "@app.route('/webcam')\n",
    "def webcam():\n",
    "    # Open webcam and capture an image\n",
    "    cap = cv2.VideoCapture(0)\n",
    "    ret, frame = cap.read()\n",
    "    cap.release()\n",
    "\n",
    "    # Perform YOLO prediction (replace with your YOLO model implementation)\n",
    "    predicted_result = yolo_prediction(frame)\n",
    "\n",
    "    return render_template('webcam.html', predicted_result=predicted_result)\n",
    "\n",
    "def yolo_prediction(image):\n",
    "    # Implement YOLO prediction logic (replace with your YOLO model code)\n",
    "    # This is a placeholder, you should integrate your YOLO model here\n",
    "    predicted_result = \"YOLO prediction result\"\n",
    "    return predicted_result\n",
    "\n",
    "if __name__ == '__main__':\n",
    "    app.run(debug=True)\n"
   ]
  }
 ],
 "metadata": {
  "kernelspec": {
   "display_name": "Python 3 (ipykernel)",
   "language": "python",
   "name": "python3"
  },
  "language_info": {
   "codemirror_mode": {
    "name": "ipython",
    "version": 3
   },
   "file_extension": ".py",
   "mimetype": "text/x-python",
   "name": "python",
   "nbconvert_exporter": "python",
   "pygments_lexer": "ipython3",
   "version": "3.11.7"
  }
 },
 "nbformat": 4,
 "nbformat_minor": 5
}
