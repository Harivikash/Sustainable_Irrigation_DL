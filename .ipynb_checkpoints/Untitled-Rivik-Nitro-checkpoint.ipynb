{
 "cells": [
  {
   "cell_type": "code",
   "execution_count": null,
   "id": "ab322fb5-2bb0-4b93-8454-a776a0cc3d12",
   "metadata": {},
   "outputs": [
    {
     "name": "stdout",
     "output_type": "stream",
     "text": [
      "\n",
      "Downloading https://www.cbf.org/assets/images/1171-x-593-px/clagett-barns-with-sunflowers-roshani-kothari-1171x593.jpg to 'clagett-barns-with-sunflowers-roshani-kothari-1171x593.jpg'...\n"
     ]
    },
    {
     "name": "stderr",
     "output_type": "stream",
     "text": [
      "100%|███████████████████████████████████████████████████████████████████████████████| 168k/168k [00:00<00:00, 10.8MB/s]\n"
     ]
    },
    {
     "name": "stdout",
     "output_type": "stream",
     "text": [
      "image 1/1 c:\\Users\\mhari\\Desktop\\Flower-detector-1\\clagett-barns-with-sunflowers-roshani-kothari-1171x593.jpg: 352x640 10 flowers, 383.5ms\n",
      "Speed: 5.3ms preprocess, 383.5ms inference, 0.0ms postprocess per image at shape (1, 3, 352, 640)\n"
     ]
    }
   ],
   "source": [
    "from ultralytics import YOLO\n",
    "from PIL import Image\n",
    "import numpy as np\n",
    "\n",
    "# Load a pretrained YOLOv8n-seg Segment model\n",
    "model = YOLO(r\"C:\\Users\\mhari\\Desktop\\Flower-detector-1\\runs\\detect\\model32\\weights\\best.pt\")\n",
    "\n",
    "# Run inference on an image\n",
    "results = model('https://www.cbf.org/assets/images/1171-x-593-px/clagett-barns-with-sunflowers-roshani-kothari-1171x593.jpg') # results list\n",
    "\n",
    "# View results and save annotated image\n",
    "for idx, r in enumerate(results):\n",
    "    # original_image = Image.open(r\"C:\\Users\\mhari\\OneDrive\\Desktop\\Flower-detector-1\\pexels-photo-1308881.jpeg\")\n",
    "    masks = r.masks  # Masks object containing detected instance masks\n",
    "    r.plot()\n",
    "\n",
    "for r in results:\n",
    "    im_array = r.plot()  # plot a BGR numpy array of predictions\n",
    "    im = Image.fromarray(im_array[..., ::-1])  # RGB PIL image\n",
    "    im.show()  # show image\n",
    "    name=1\n",
    "    name+1\n",
    "    output=r\"C:\\Users\\mhari\\Desktop\\Flower-detector-1/testing_pic/\"+\"pic\"+str(name)+\".jpg\"\n",
    "    im.save(output)  "
   ]
  },
  {
   "cell_type": "code",
   "execution_count": null,
   "id": "d7842efb-705a-4f25-8092-9fc21eae5978",
   "metadata": {},
   "outputs": [],
   "source": []
  }
 ],
 "metadata": {
  "kernelspec": {
   "display_name": "Python 3 (ipykernel)",
   "language": "python",
   "name": "python3"
  },
  "language_info": {
   "codemirror_mode": {
    "name": "ipython",
    "version": 3
   },
   "file_extension": ".py",
   "mimetype": "text/x-python",
   "name": "python",
   "nbconvert_exporter": "python",
   "pygments_lexer": "ipython3",
   "version": "3.10.13"
  }
 },
 "nbformat": 4,
 "nbformat_minor": 5
}
